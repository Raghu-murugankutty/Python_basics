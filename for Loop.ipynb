{
 "cells": [
  {
   "cell_type": "code",
   "execution_count": 1,
   "metadata": {},
   "outputs": [],
   "source": [
    "##################################Day 1###################################"
   ]
  },
  {
   "cell_type": "code",
   "execution_count": 7,
   "metadata": {},
   "outputs": [
    {
     "name": "stdout",
     "output_type": "stream",
     "text": [
      "red\n",
      "green\n",
      "blue\n",
      "white\n",
      "yellow\n"
     ]
    }
   ],
   "source": [
    "# ivide loopinte starting and ending onnum explicit aayi kodukkanda\n",
    "color = ['red', 'green', 'blue', 'white', 'yellow']\n",
    "for c in color:\n",
    "    print(c)"
   ]
  },
  {
   "cell_type": "code",
   "execution_count": 12,
   "metadata": {},
   "outputs": [
    {
     "data": {
      "text/plain": [
       "range(0, 10)"
      ]
     },
     "execution_count": 12,
     "metadata": {},
     "output_type": "execute_result"
    }
   ],
   "source": [
    "x = range(10)\n",
    "x"
   ]
  },
  {
   "cell_type": "code",
   "execution_count": 2,
   "metadata": {},
   "outputs": [
    {
     "name": "stdout",
     "output_type": "stream",
     "text": [
      "0\n",
      "2\n",
      "4\n",
      "6\n",
      "8\n",
      "10\n",
      "12\n",
      "14\n",
      "16\n",
      "18\n"
     ]
    }
   ],
   "source": [
    "# integer nte case aanel range um use cheyyaa\n",
    "#for <variable> in range(<number>): \n",
    "for r in range(10):\n",
    "    print(r*2)"
   ]
  },
  {
   "cell_type": "code",
   "execution_count": 18,
   "metadata": {},
   "outputs": [
    {
     "name": "stdout",
     "output_type": "stream",
     "text": [
      "34\n",
      "35\n",
      "36\n",
      "37\n",
      "38\n",
      "39\n",
      "40\n",
      "41\n",
      "42\n",
      "43\n",
      "44\n"
     ]
    }
   ],
   "source": [
    "#for \"variable\" in range(\"start_number\", \"end_number\"):\n",
    "#oru range nte ullil loop cheyyaan eluppam aanu\n",
    "for r in range(34,45):\n",
    "    print(r)"
   ]
  },
  {
   "cell_type": "code",
   "execution_count": 19,
   "metadata": {},
   "outputs": [
    {
     "name": "stdout",
     "output_type": "stream",
     "text": [
      "25\n",
      "30\n",
      "35\n",
      "40\n",
      "45\n"
     ]
    }
   ],
   "source": [
    "# range nte increment controle cheyyaan 3rd variable\n",
    "for r in range(25,50,5):\n",
    "    print(r)"
   ]
  },
  {
   "cell_type": "code",
   "execution_count": 27,
   "metadata": {},
   "outputs": [
    {
     "name": "stdout",
     "output_type": "stream",
     "text": [
      "odd 5\n",
      "even 5\n"
     ]
    }
   ],
   "source": [
    "# count number of odd and even items in tuple\n",
    "numbers_T = (1,2,3,4,5,6,7,8,9,10)\n",
    "odd = 0;\n",
    "even = 0;\n",
    "for n in numbers_T:\n",
    "    if (n%2==0):\n",
    "        even = even +1;\n",
    "    else:\n",
    "        odd = odd + 1;\n",
    "print(\"odd\",odd)\n",
    "print(\"even\",even)\n"
   ]
  },
  {
   "cell_type": "code",
   "execution_count": 36,
   "metadata": {},
   "outputs": [
    {
     "name": "stdout",
     "output_type": "stream",
     "text": [
      "typeof is <class 'int'>\n",
      "typeof is <class 'float'>\n",
      "typeof is <class 'complex'>\n",
      "typeof is <class 'bool'>\n",
      "typeof is <class 'str'>\n",
      "typeof is <class 'tuple'>\n",
      "typeof is <class 'list'>\n",
      "typeof is <class 'dict'>\n"
     ]
    }
   ],
   "source": [
    "#Iterating over list\n",
    "datalist = [1452, 11.23, 1+2j, True, 'w3resource', (0, -1), [5, 12], {\"class\":'V', \"section\":'A'}]\n",
    "for d in datalist:\n",
    "    print(\"typeof\", \"is\", type(d))"
   ]
  },
  {
   "cell_type": "code",
   "execution_count": 39,
   "metadata": {},
   "outputs": [
    {
     "name": "stdout",
     "output_type": "stream",
     "text": [
      "c1\n",
      "c2\n",
      "c3\n"
     ]
    }
   ],
   "source": [
    "color = {\"c1\": \"Red\", \"c2\": \"Green\", \"c3\": \"Orange\"}\n",
    "for key, la in color:\n",
    "    print(key)\n"
   ]
  },
  {
   "cell_type": "code",
   "execution_count": 43,
   "metadata": {},
   "outputs": [
    {
     "name": "stdout",
     "output_type": "stream",
     "text": [
      "Red\n",
      "Green\n",
      "Orange\n"
     ]
    }
   ],
   "source": [
    "#Following for loop iterates through its values :\n",
    "color = {\"c1\": \"Red\", \"c2\": \"Green\", \"c3\": \"Orange\"}\n",
    "for c in color.values():\n",
    "    print(c)"
   ]
  },
  {
   "cell_type": "code",
   "execution_count": 44,
   "metadata": {},
   "outputs": [
    {
     "name": "stdout",
     "output_type": "stream",
     "text": [
      "red\n",
      "green\n",
      "blue\n",
      "white\n",
      "yellow\n",
      "loop over\n"
     ]
    }
   ],
   "source": [
    "color = ['red', 'green', 'blue', 'white', 'yellow']\n",
    "for c in color:\n",
    "    print(c);\n",
    "else:\n",
    "    print('loop over')\n",
    "    "
   ]
  },
  {
   "cell_type": "code",
   "execution_count": 1,
   "metadata": {},
   "outputs": [],
   "source": [
    "###################### While Loop ########################\n"
   ]
  },
  {
   "cell_type": "code",
   "execution_count": 2,
   "metadata": {},
   "outputs": [
    {
     "name": "stdout",
     "output_type": "stream",
     "text": [
      "0\n",
      "1\n",
      "2\n",
      "3\n",
      "4\n"
     ]
    }
   ],
   "source": [
    "# x<5 enna condition true aayirikkunna vare loop execute cheyyum\n",
    "x=0\n",
    "while(x<5):\n",
    "    print(x)\n",
    "    x += 1;"
   ]
  },
  {
   "cell_type": "code",
   "execution_count": null,
   "metadata": {},
   "outputs": [],
   "source": []
  }
 ],
 "metadata": {
  "kernelspec": {
   "display_name": "Python 3",
   "language": "python",
   "name": "python3"
  },
  "language_info": {
   "codemirror_mode": {
    "name": "ipython",
    "version": 3
   },
   "file_extension": ".py",
   "mimetype": "text/x-python",
   "name": "python",
   "nbconvert_exporter": "python",
   "pygments_lexer": "ipython3",
   "version": "3.8.3"
  }
 },
 "nbformat": 4,
 "nbformat_minor": 4
}
