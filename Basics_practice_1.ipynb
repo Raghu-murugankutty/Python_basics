{
  "nbformat": 4,
  "nbformat_minor": 0,
  "metadata": {
    "colab": {
      "provenance": []
    },
    "kernelspec": {
      "name": "python3",
      "display_name": "Python 3"
    },
    "language_info": {
      "name": "python"
    }
  },
  "cells": [
    {
      "cell_type": "code",
      "source": [
        "1##Print string in a particular format"
      ],
      "metadata": {
        "id": "V9wTCCMtrmIj"
      },
      "execution_count": 7,
      "outputs": []
    },
    {
      "cell_type": "code",
      "execution_count": 28,
      "metadata": {
        "id": "6vo1dZ1Ap7h6"
      },
      "outputs": [],
      "source": [
        "string = \"Twinkle, twinkle, little star, How I wonder what you are! Up above the world so high, Like a diamond in the sky. Twinkle, twinkle, little star, How I wonder what you are\""
      ]
    },
    {
      "cell_type": "code",
      "source": [
        "print(\"Twinkle, twinkle, little star, \\n\\t How I wonder what you are! \\n\\t\\tUp above the world so high, \\n\\t\\tLike a diamond in the sky. \\nTwinkle, twinkle, little star, \\n\\tHow I wonder what you are!\")\n"
      ],
      "metadata": {
        "colab": {
          "base_uri": "https://localhost:8080/"
        },
        "id": "1qE3dRC5qB5T",
        "outputId": "3bf6076a-6ae1-4a3f-e809-d8d1ccd660c2"
      },
      "execution_count": 3,
      "outputs": [
        {
          "output_type": "stream",
          "name": "stdout",
          "text": [
            "Twinkle, twinkle, little star, \n",
            "\t How I wonder what you are! \n",
            "\t\tUp above the world so high, \n",
            "\t\tLike a diamond in the sky. \n",
            "Twinkle, twinkle, little star, \n",
            "\tHow I wonder what you are!\n"
          ]
        }
      ]
    },
    {
      "cell_type": "code",
      "source": [
        "2## Checking the version of python"
      ],
      "metadata": {
        "id": "voTaqTI9rsEY"
      },
      "execution_count": 9,
      "outputs": []
    },
    {
      "cell_type": "code",
      "source": [
        "import sys\n",
        "print(sys.version)"
      ],
      "metadata": {
        "colab": {
          "base_uri": "https://localhost:8080/"
        },
        "id": "S3tOCNCEqIMR",
        "outputId": "de8e16dd-931c-4578-fb55-8f54e61b5bb1"
      },
      "execution_count": 8,
      "outputs": [
        {
          "output_type": "stream",
          "name": "stdout",
          "text": [
            "3.8.10 (default, Nov 14 2022, 12:59:47) \n",
            "[GCC 9.4.0]\n"
          ]
        }
      ]
    },
    {
      "cell_type": "code",
      "source": [
        "3# Print current time and date"
      ],
      "metadata": {
        "id": "Sdt5hts9rUjL"
      },
      "execution_count": 10,
      "outputs": []
    },
    {
      "cell_type": "code",
      "source": [
        "import datetime"
      ],
      "metadata": {
        "id": "4k5WRmX-r48H"
      },
      "execution_count": 11,
      "outputs": []
    },
    {
      "cell_type": "code",
      "source": [
        "now = datetime.datetime.now()\n",
        "print(now)"
      ],
      "metadata": {
        "colab": {
          "base_uri": "https://localhost:8080/"
        },
        "id": "EQ3_MsgQr6pL",
        "outputId": "e9440be6-26c5-4369-a8f0-ad6bf58aaf80"
      },
      "execution_count": 14,
      "outputs": [
        {
          "output_type": "stream",
          "name": "stdout",
          "text": [
            "2023-02-07 07:03:51.248988\n"
          ]
        }
      ]
    },
    {
      "cell_type": "code",
      "source": [
        "## 4) Calculate area of a circle"
      ],
      "metadata": {
        "id": "k5hLFuzLr-Ye"
      },
      "execution_count": 16,
      "outputs": []
    },
    {
      "cell_type": "code",
      "source": [
        "def circle_area():\n",
        "  r = float(input('enter the radius of the circle:'))\n",
        "  area = 3.14 * r * r\n",
        "  print(area)\n",
        "  return area\n"
      ],
      "metadata": {
        "id": "nyOC4yO2smsd"
      },
      "execution_count": 20,
      "outputs": []
    },
    {
      "cell_type": "code",
      "source": [
        "circle_area()"
      ],
      "metadata": {
        "colab": {
          "base_uri": "https://localhost:8080/"
        },
        "id": "ICS0v89vszoG",
        "outputId": "e972caea-c280-4580-8f30-1ad3479776b0"
      },
      "execution_count": 22,
      "outputs": [
        {
          "output_type": "stream",
          "name": "stdout",
          "text": [
            "enter the radius of the circle:5\n",
            "78.5\n"
          ]
        },
        {
          "output_type": "execute_result",
          "data": {
            "text/plain": [
              "78.5"
            ]
          },
          "metadata": {},
          "execution_count": 22
        }
      ]
    },
    {
      "cell_type": "code",
      "source": [
        "# 5. Write a Python program that accepts the user's first and last name and prints them in reverse order with a space between them."
      ],
      "metadata": {
        "id": "OVTABNMzuThJ"
      },
      "execution_count": null,
      "outputs": []
    },
    {
      "cell_type": "code",
      "source": [
        "def name_rev():\n",
        "  first = str(input('eter first name:'))\n",
        "  last = str(input('eter last name:'))\n",
        "  first_rev = first[::-1]\n",
        "  last_rev = last[::-1]\n",
        "  full = first_rev + ' ' + last_rev\n",
        "  #print(full)\n",
        "  return full\n"
      ],
      "metadata": {
        "id": "jZzebK7OtBYe"
      },
      "execution_count": 25,
      "outputs": []
    },
    {
      "cell_type": "code",
      "source": [
        "name_rev()"
      ],
      "metadata": {
        "colab": {
          "base_uri": "https://localhost:8080/",
          "height": 70
        },
        "id": "Y8oAvP7Qt30t",
        "outputId": "c58f3f3d-08dd-49d8-b579-cd8a6df838d5"
      },
      "execution_count": 27,
      "outputs": [
        {
          "name": "stdout",
          "output_type": "stream",
          "text": [
            "eter first name:raghu\n",
            "eter last name:murugankutty\n"
          ]
        },
        {
          "output_type": "execute_result",
          "data": {
            "text/plain": [
              "'uhgar yttuknagurum'"
            ],
            "application/vnd.google.colaboratory.intrinsic+json": {
              "type": "string"
            }
          },
          "metadata": {},
          "execution_count": 27
        }
      ]
    },
    {
      "cell_type": "code",
      "source": [],
      "metadata": {
        "id": "WILJ8uJUuK7a"
      },
      "execution_count": null,
      "outputs": []
    }
  ]
}